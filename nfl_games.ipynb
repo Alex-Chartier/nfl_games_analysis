{
 "cells": [
  {
   "cell_type": "code",
   "execution_count": 1,
   "id": "ee65ada7",
   "metadata": {},
   "outputs": [
    {
     "name": "stdout",
     "output_type": "stream",
     "text": [
      "         date  season  neutral  playoff team1 team2      elo1      elo2  \\\n",
      "0  1920-09-26    1920        0        0   RII   STP  1503.947  1300.000   \n",
      "1  1920-10-03    1920        0        0   AKR   WHE  1503.420  1300.000   \n",
      "2  1920-10-03    1920        0        0   RCH   ABU  1503.420  1300.000   \n",
      "3  1920-10-03    1920        0        0   DAY   COL  1493.002  1504.908   \n",
      "4  1920-10-03    1920        0        0   RII   MUN  1516.108  1478.004   \n",
      "\n",
      "   elo_prob1  score1  score2  result1  \n",
      "0   0.824651      48       0      1.0  \n",
      "1   0.824212      43       0      1.0  \n",
      "2   0.824212      10       0      1.0  \n",
      "3   0.575819      14       0      1.0  \n",
      "4   0.644171      45       0      1.0  \n"
     ]
    }
   ],
   "source": [
    "import pandas as pd\n",
    "import matplotlib\n",
    "import seaborn as sns\n",
    "import numpy as np\n",
    "import scipy.stats as stats\n",
    "\n",
    "nfl_data = pd.read_csv(\"nfl_games.csv\")\n",
    "print(nfl_data.head())"
   ]
  },
  {
   "cell_type": "code",
   "execution_count": 5,
   "id": "22859af4",
   "metadata": {},
   "outputs": [],
   "source": [
    "nfl_data_10 = nfl_data[nfl_data.season > 2012]"
   ]
  },
  {
   "cell_type": "code",
   "execution_count": 6,
   "id": "1f620f9a",
   "metadata": {},
   "outputs": [
    {
     "name": "stdout",
     "output_type": "stream",
     "text": [
      "             date  season  neutral  playoff team1 team2      elo1      elo2  \\\n",
      "14672  2013-09-05    2013        0        0   DEN   BAL  1608.906  1628.207   \n",
      "14673  2013-09-08    2013        0        0   DAL   NYG  1487.509  1567.612   \n",
      "14674  2013-09-08    2013        0        0    SF    GB  1624.169  1603.929   \n",
      "14675  2013-09-08    2013        0        0   LAR   ARI  1464.154  1420.280   \n",
      "14676  2013-09-08    2013        0        0   BUF    NE  1444.702  1634.979   \n",
      "\n",
      "       elo_prob1  score1  score2  result1  \n",
      "14672   0.565389      49      27      1.0  \n",
      "14673   0.478279      36      31      1.0  \n",
      "14674   0.620267      34      28      1.0  \n",
      "14675   0.651747      27      24      1.0  \n",
      "14676   0.327139      21      23      0.0  \n"
     ]
    }
   ],
   "source": [
    "print(nfl_data_10.head())"
   ]
  },
  {
   "cell_type": "code",
   "execution_count": 11,
   "id": "f8863891",
   "metadata": {},
   "outputs": [],
   "source": [
    "data = nfl_data_10[['season','team1', 'team2', 'score1', 'score2', 'result1']]"
   ]
  },
  {
   "cell_type": "code",
   "execution_count": 12,
   "id": "e7f53c21",
   "metadata": {},
   "outputs": [
    {
     "name": "stdout",
     "output_type": "stream",
     "text": [
      "       season team1 team2  score1  score2  result1\n",
      "14672    2013   DEN   BAL      49      27      1.0\n",
      "14673    2013   DAL   NYG      36      31      1.0\n",
      "14674    2013    SF    GB      34      28      1.0\n",
      "14675    2013   LAR   ARI      27      24      1.0\n",
      "14676    2013   BUF    NE      21      23      0.0\n"
     ]
    }
   ],
   "source": [
    "print(data.head())"
   ]
  },
  {
   "cell_type": "code",
   "execution_count": 14,
   "id": "a4b4d5b6",
   "metadata": {},
   "outputs": [],
   "source": [
    "year1 = nfl_data[nfl_data.season == 2013]"
   ]
  },
  {
   "cell_type": "code",
   "execution_count": 16,
   "id": "c6f586a5",
   "metadata": {},
   "outputs": [
    {
     "name": "stdout",
     "output_type": "stream",
     "text": [
      "season       int64\n",
      "team1       object\n",
      "team2       object\n",
      "score1       int64\n",
      "score2       int64\n",
      "result1    float64\n",
      "dtype: object\n"
     ]
    }
   ],
   "source": [
    "print(data.dtypes)"
   ]
  },
  {
   "cell_type": "code",
   "execution_count": 18,
   "id": "f7780a16",
   "metadata": {},
   "outputs": [
    {
     "data": {
      "text/plain": [
       "24.020112254443404"
      ]
     },
     "execution_count": 18,
     "metadata": {},
     "output_type": "execute_result"
    }
   ],
   "source": [
    "data.score1.mean()"
   ]
  },
  {
   "cell_type": "code",
   "execution_count": 19,
   "id": "d8208098",
   "metadata": {},
   "outputs": [
    {
     "data": {
      "text/plain": [
       "22.072497661365762"
      ]
     },
     "execution_count": 19,
     "metadata": {},
     "output_type": "execute_result"
    }
   ],
   "source": [
    "data.score2.mean()"
   ]
  },
  {
   "cell_type": "code",
   "execution_count": 20,
   "id": "2a827c9c",
   "metadata": {},
   "outputs": [
    {
     "data": {
      "text/plain": [
       "0.5626753975678204"
      ]
     },
     "execution_count": 20,
     "metadata": {},
     "output_type": "execute_result"
    }
   ],
   "source": [
    "data.result1.mean()"
   ]
  },
  {
   "cell_type": "code",
   "execution_count": null,
   "id": "b13cb4f5",
   "metadata": {},
   "outputs": [],
   "source": []
  }
 ],
 "metadata": {
  "kernelspec": {
   "display_name": "Python 3 (ipykernel)",
   "language": "python",
   "name": "python3"
  },
  "language_info": {
   "codemirror_mode": {
    "name": "ipython",
    "version": 3
   },
   "file_extension": ".py",
   "mimetype": "text/x-python",
   "name": "python",
   "nbconvert_exporter": "python",
   "pygments_lexer": "ipython3",
   "version": "3.9.13"
  }
 },
 "nbformat": 4,
 "nbformat_minor": 5
}
